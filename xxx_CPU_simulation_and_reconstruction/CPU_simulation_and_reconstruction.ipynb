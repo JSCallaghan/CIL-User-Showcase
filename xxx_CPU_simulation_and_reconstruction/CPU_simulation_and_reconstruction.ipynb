{
 "cells": [
  {
   "cell_type": "markdown",
   "metadata": {},
   "source": [
    "# Overview\n",
    "This notebook is used to simulate an X-ray CT scan and reconstruction.\n",
    "\n",
    "The scan object is a twisted hexagonal geometry with helical flow channels (object.stl), and the scan parameters are taken from an existing scan (scan_param).\n",
    "\n",
    "The aim is to create a dataset of projections similar to the experiment to:\n",
    "- practise the reconstruction methods\n",
    "- prepare the scripting for data import and processing when the raw projection data arrives\n",
    "\n",
    "gVXR is used to simulate the projects, then the data is written to unsigned 16-bit raw format, which is then read in again and reconstructed.\n",
    "The experimental data is very large, so for the simulation a reduction factor is used for projection resolution and a smaller number of angles are used."
   ]
  },
  {
   "cell_type": "markdown",
   "metadata": {
    "slideshow": {
     "slide_type": "slide"
    }
   },
   "source": [
    "# Setup"
   ]
  },
  {
   "cell_type": "markdown",
   "metadata": {
    "slideshow": {
     "slide_type": "subslide"
    }
   },
   "source": [
    "## Install\n",
    "- [environment: CIL CPU](https://github.com/TomographicImaging/CIL)\n",
    "> conda create --name cilCPU -c conda-forge -c https://software.repos.intel.com/python/conda -c ccpi cil=24.2.0 ipp=2021.12 astra-toolbox=*=py* tigre ccpi-regulariser tomophantom ipykernel ipywidgets scikit-image\n",
    "\n",
    "- [package: gVXR](https://gvirtualxray.fpvidal.net/)\n",
    "> pip install --upgrade gvxr\n",
    "\n",
    "- [package: k3d](https://github.com/K3D-tools/K3D-jupyter)\n",
    "> conda install -c conda-forge k3d"
   ]
  },
  {
   "cell_type": "markdown",
   "metadata": {
    "slideshow": {
     "slide_type": "subslide"
    }
   },
   "source": [
    "## Import modules"
   ]
  },
  {
   "cell_type": "code",
   "execution_count": null,
   "metadata": {
    "slideshow": {
     "slide_type": "fragment"
    }
   },
   "outputs": [],
   "source": [
    "# CIL\n",
    "from cil.framework import AcquisitionData, AcquisitionGeometry, DataContainer\n",
    "from cil.utilities.display import show_geometry, show2D\n",
    "from cil.plugins.astra import ProjectionOperator\n",
    "from cil.io import RAWFileWriter\n",
    "from cil.optimisation.algorithms import CGLS, SIRT\n",
    "from cil.optimisation.functions import IndicatorBox\n",
    "\n",
    "# gvxr\n",
    "import k3d\n",
    "from gvxrPython3 import gvxr\n",
    "from gvxrPython3.utils import visualise\n",
    "\n",
    "# other\n",
    "import xml.etree.ElementTree as ET\n",
    "import matplotlib.pyplot as plt\n",
    "import numpy as np"
   ]
  },
  {
   "cell_type": "markdown",
   "metadata": {
    "slideshow": {
     "slide_type": "slide"
    }
   },
   "source": [
    "# Read data"
   ]
  },
  {
   "cell_type": "markdown",
   "metadata": {
    "slideshow": {
     "slide_type": "subslide"
    }
   },
   "source": [
    "## User input"
   ]
  },
  {
   "cell_type": "code",
   "execution_count": null,
   "metadata": {
    "slideshow": {
     "slide_type": "fragment"
    }
   },
   "outputs": [],
   "source": [
    "# xml name\n",
    "xmlName = 'scan_param.xml'\n",
    "\n",
    "# stl name\n",
    "stlName = 'object.stl'\n",
    "\n",
    "# data reduction factor (scale down)\n",
    "dataRed = 15"
   ]
  },
  {
   "cell_type": "markdown",
   "metadata": {
    "slideshow": {
     "slide_type": "subslide"
    }
   },
   "source": [
    "## read xml data"
   ]
  },
  {
   "cell_type": "code",
   "execution_count": null,
   "metadata": {
    "slideshow": {
     "slide_type": "fragment"
    }
   },
   "outputs": [],
   "source": [
    "# convert xml as nested dictionary\n",
    "tree = ET.parse(xmlName)\n",
    "d = {}\n",
    "for group in tree.getroot():\n",
    "    d[group.tag] = {}\n",
    "    for item in group:\n",
    "        if item:\n",
    "            for subitem in item:\n",
    "                d[group.tag][item.tag] = {}\n",
    "                d[group.tag][item.tag][subitem.tag] = subitem.text\n",
    "        else:\n",
    "            d[group.tag][item.tag] = item.text\n",
    "\n",
    "# geometry data\n",
    "numPixX = int(d['ScanParameter']['DetectorPixelX'])\n",
    "numPixY = int(d['ScanParameter']['DetectorPixelY'])\n",
    "souPos = float(d['Geometrie']['SourceObjectDist'])\n",
    "detPos = float(d['Geometrie']['SourceDetectorDist'])\n",
    "pixSiz = float(d['Recon']['ProjectionPixelSizeX'])\n",
    "detOffX = float(d['Recon']['ProjectionCenterOffsetX'])\n",
    "detOffY = float(d['Recon']['ProjectionCenterOffsetY'])\n",
    "\n",
    "# simulation data - resolution decreased by factor of dataRed\n",
    "numPixX = int(numPixX / dataRed)\n",
    "numPixY = int(numPixY / dataRed)\n",
    "pixSiz = pixSiz * dataRed\n",
    "\n",
    "# scan data\n",
    "scaVol = float(d['ScanParameter']['Voltage'])\n",
    "numPro = int(d['Recon']['ProjectionCount'])\n"
   ]
  },
  {
   "cell_type": "markdown",
   "metadata": {
    "slideshow": {
     "slide_type": "subslide"
    }
   },
   "source": [
    "## Load stl and display"
   ]
  },
  {
   "cell_type": "code",
   "execution_count": null,
   "metadata": {
    "slideshow": {
     "slide_type": "fragment"
    }
   },
   "outputs": [],
   "source": [
    "plot = k3d.plot()\n",
    "with open(stlName, \"rb\") as model:\n",
    "    plot += k3d.stl(model.read(),color=0xfdea4f)\n",
    "plot.display()"
   ]
  },
  {
   "cell_type": "markdown",
   "metadata": {
    "slideshow": {
     "slide_type": "slide"
    }
   },
   "source": [
    "# Simulate Projection"
   ]
  },
  {
   "cell_type": "markdown",
   "metadata": {
    "slideshow": {
     "slide_type": "subslide"
    }
   },
   "source": [
    "## User Settings"
   ]
  },
  {
   "cell_type": "code",
   "execution_count": null,
   "metadata": {
    "slideshow": {
     "slide_type": "fragment"
    }
   },
   "outputs": [],
   "source": [
    "# projection\n",
    "numPro = 300\n",
    "endAng = 360\n",
    "\n",
    "# material\n",
    "matNam = \"ZrO2\"\n",
    "matDen = 5.68     # g/cm3"
   ]
  },
  {
   "cell_type": "markdown",
   "metadata": {
    "slideshow": {
     "slide_type": "subslide"
    }
   },
   "source": [
    "## Setup Geometry"
   ]
  },
  {
   "cell_type": "code",
   "execution_count": null,
   "metadata": {
    "slideshow": {
     "slide_type": "fragment"
    }
   },
   "outputs": [],
   "source": [
    "# create geometry\n",
    "ag = AcquisitionGeometry.create_Cone3D(source_position=[0,-souPos,0],\n",
    "                                       detector_position=[detOffX,detPos,detOffY])\\\n",
    "    .set_panel(num_pixels=[numPixX,numPixY],pixel_size=pixSiz)\\\n",
    "    .set_angles(angles=np.linspace(0,endAng,numPro,endpoint=False))\n",
    "\n",
    "# display geometry\n",
    "show_geometry(ag)\n",
    "\n",
    "# image geometry\n",
    "ig = ag.get_ImageGeometry()"
   ]
  },
  {
   "cell_type": "markdown",
   "metadata": {
    "slideshow": {
     "slide_type": "subslide"
    }
   },
   "source": [
    "## Setup gVXR"
   ]
  },
  {
   "cell_type": "code",
   "execution_count": null,
   "metadata": {
    "slideshow": {
     "slide_type": "fragment"
    }
   },
   "outputs": [],
   "source": [
    "# Create an OpenGL context\n",
    "window_id = 0\n",
    "opengl_major_version = 4\n",
    "opengl_minor_version = 5\n",
    "backend = \"OPENGL\"\n",
    "visible = False\n",
    "gvxr.createWindow(window_id, visible, backend, opengl_major_version, opengl_minor_version)\n",
    "\n",
    "# Setup Detector\n",
    "gvxr.setDetectorNumberOfPixels(numPixX, numPixY)\n",
    "gvxr.setDetectorPixelSize(pixSiz, pixSiz, \"mm\")\n",
    "gvxr.setDetectorUpVector(0, 0, 1)\n",
    "gvxr.setDetectorPosition(0, detPos, 0, \"mm\")\n",
    "\n",
    "# Setup Source\n",
    "gvxr.setSourcePosition(0,-souPos,0,\"mm\")\n",
    "gvxr.usePointSource()\n",
    "gvxr.addEnergyBinToSpectrum(scaVol, \"keV\", 1)\n",
    "\n",
    "# Setup Model\n",
    "gvxr.removePolygonMeshesFromSceneGraph()\n",
    "gvxr.loadMeshFile(\"cell\", stlName, \"mm\")\n",
    "gvxr.setCompound(\"cell\",matNam)\n",
    "gvxr.setDensity(\"cell\", matDen, \"g/cm3\")"
   ]
  },
  {
   "cell_type": "markdown",
   "metadata": {
    "slideshow": {
     "slide_type": "subslide"
    }
   },
   "source": [
    "## Virtual Scan"
   ]
  },
  {
   "cell_type": "code",
   "execution_count": null,
   "metadata": {
    "slideshow": {
     "slide_type": "fragment"
    }
   },
   "outputs": [],
   "source": [
    "# Define the number of projections, along with the angle step\n",
    "angSte = endAng / numPro\n",
    "\n",
    "# Pre-create our results array with the size of our detector\n",
    "projSim = np.ndarray((numPro, numPixY, numPixX))\n",
    "\n",
    "# Rotate our object by angSte for every projection, saving it to the results array.\n",
    "for i in range(0, numPro):\n",
    "    # Save current angular projection\n",
    "    projSim[i] = gvxr.computeXRayImage()\n",
    "    # Rotate models\n",
    "    \n",
    "    gvxr.rotateScene(angSte,0,0,1)\n",
    "\n",
    "# Don't forget, we need to use flatfield normalisation on the radiographs to get the correct attenuation values!\n",
    "# Because our flatfield and darkfield are perfect, all we need to do is divide by the total energy\n",
    "projSim /= gvxr.getTotalEnergyWithDetectorResponse()"
   ]
  },
  {
   "cell_type": "markdown",
   "metadata": {
    "slideshow": {
     "slide_type": "subslide"
    }
   },
   "source": [
    "## Display setup with projection"
   ]
  },
  {
   "cell_type": "code",
   "execution_count": null,
   "metadata": {
    "slideshow": {
     "slide_type": "subslide"
    }
   },
   "outputs": [],
   "source": [
    "plot=visualise(use_log=True,)\n",
    "plot.display()"
   ]
  },
  {
   "cell_type": "markdown",
   "metadata": {
    "slideshow": {
     "slide_type": "subslide"
    }
   },
   "source": [
    "## Export projections"
   ]
  },
  {
   "cell_type": "code",
   "execution_count": null,
   "metadata": {
    "slideshow": {
     "slide_type": "fragment"
    }
   },
   "outputs": [],
   "source": [
    "# bit depth\n",
    "bitDep = 16\n",
    "\n",
    "# bit depth multiplier\n",
    "bitMul = (2**bitDep)-1\n",
    "\n",
    "# admin\n",
    "filNam = \"proj\"\n",
    "\n",
    "# write data to raw - CIL method\n",
    "imData = DataContainer(projSim, False)\n",
    "rawWrite = RAWFileWriter(imData,filNam+\"_CIL\",'uint16')\n",
    "rawWrite.write()\n",
    "\n",
    "# write to raw - numpy\n",
    "projSimNP = projSim * bitMul\n",
    "projSimNP.astype('uint16').tofile(filNam+\"_np.raw\")"
   ]
  },
  {
   "cell_type": "markdown",
   "metadata": {
    "slideshow": {
     "slide_type": "slide"
    }
   },
   "source": [
    "# Read projections"
   ]
  },
  {
   "cell_type": "markdown",
   "metadata": {
    "slideshow": {
     "slide_type": "subslide"
    }
   },
   "source": [
    "## Read from .raw"
   ]
  },
  {
   "cell_type": "code",
   "execution_count": null,
   "metadata": {
    "slideshow": {
     "slide_type": "fragment"
    }
   },
   "outputs": [],
   "source": [
    "# use simulated or simulated read/write projection data\n",
    "dataSource = \"simRW\"        # sim, simRW, exp\n",
    "dataWriteMethod = \"np\"      # CIL, np\n",
    "\n",
    "match(dataSource):\n",
    "    case \"sim\":\n",
    "        print('using sim data')\n",
    "        proj = projSim\n",
    "    \n",
    "    case \"exp\":\n",
    "        print('using experimental data')\n",
    "        \n",
    "    case \"simRW\":\n",
    "        print('using simRW data')\n",
    "\n",
    "        # get number of pixels\n",
    "        num_pixels = numPixX * numPixY * numPro\n",
    "\n",
    "        match(dataWriteMethod):\n",
    "            case \"CIL\":\n",
    "                # Read the .raw file as a numpy array - CIL data\n",
    "                with open(filNam+\"_CIL.raw\", \"rb\") as f:\n",
    "                    data = np.fromfile(f, dtype=np.uint16, count=num_pixels)\n",
    "\n",
    "                # normalise data - need to use compression and scale data\n",
    "                data = (data.astype(float) + 16918.20416302011) / 82453.20416302011\n",
    "                \n",
    "            case \"np\":\n",
    "                # Read the .raw file as a numpy array - NP data\n",
    "                with open(filNam+\"_np.raw\", \"rb\") as f:\n",
    "                    data = np.fromfile(f, dtype=np.uint16, count=num_pixels)\n",
    "\n",
    "                # normalise data\n",
    "                data = data.astype(float) / bitMul\n",
    "\n",
    "        # Reshape the data into a 3D array (num_images, height, width)\n",
    "        projRead = data.reshape((numPro, numPixX, numPixY))\n",
    "\n",
    "        # reallocate projections\n",
    "        proj = projRead\n"
   ]
  },
  {
   "cell_type": "markdown",
   "metadata": {
    "slideshow": {
     "slide_type": "subslide"
    }
   },
   "source": [
    "## Compare read/write data to simulation"
   ]
  },
  {
   "cell_type": "code",
   "execution_count": null,
   "metadata": {
    "slideshow": {
     "slide_type": "fragment"
    }
   },
   "outputs": [],
   "source": [
    " # plot both and difference\n",
    "projDiff = projSim[0]-projRead[0]\n",
    "show2D([projSim[0], projRead[0], projDiff],title=[\"sim\",\"sim_read_write_\"+dataWriteMethod,\"difference\"],\\\n",
    "        cmap='inferno',num_cols=3,fix_range=[(0,1),(0,1),(projDiff.min(),projDiff.max())], size=(9,3))\n",
    "\n",
    "plt.figure(figsize=(3,3))\n",
    "plt.hist(projDiff.ravel(), bins=20)\n",
    "plt.title(\"Histogram of difference\")\n",
    "plt.grid('both')\n",
    "plt.show()"
   ]
  },
  {
   "cell_type": "markdown",
   "metadata": {
    "slideshow": {
     "slide_type": "slide"
    }
   },
   "source": [
    "# Reconstruction"
   ]
  },
  {
   "cell_type": "markdown",
   "metadata": {
    "slideshow": {
     "slide_type": "subslide"
    }
   },
   "source": [
    "## Get sinogram slice"
   ]
  },
  {
   "cell_type": "code",
   "execution_count": null,
   "metadata": {
    "slideshow": {
     "slide_type": "fragment"
    }
   },
   "outputs": [],
   "source": [
    "# colormap\n",
    "cmapSino = \"inferno\"    # gray, inferno\n",
    "\n",
    "# reduce data (64 -> 32 bit)\n",
    "proj_red = proj.astype(np.float32)\n",
    "aqData = AcquisitionData(proj_red,False,ag)\n",
    "\n",
    "# get slice\n",
    "dataSlice = aqData.get_slice(vertical='centre')\n",
    "\n",
    "# log corecction\n",
    "dataSlice.log(out=dataSlice)\n",
    "dataSlice *= -1\n",
    "show2D(dataSlice, cmap=cmapSino, size=(5,5))\n",
    "\n",
    "# get details\n",
    "datageom = dataSlice.geometry\n",
    "imgeom = datageom.get_ImageGeometry()"
   ]
  },
  {
   "cell_type": "markdown",
   "metadata": {
    "slideshow": {
     "slide_type": "subslide"
    }
   },
   "source": [
    "## User Input"
   ]
  },
  {
   "cell_type": "code",
   "execution_count": null,
   "metadata": {
    "slideshow": {
     "slide_type": "fragment"
    }
   },
   "outputs": [],
   "source": [
    "# recon - iterations\n",
    "iterMeth = 'SIRT'    # CGLS, SIRT\n",
    "numIter = 100\n",
    "\n",
    "# colour scheme\n",
    "cmapRecon = \"inferno\"    # gray, inferno\n",
    "\n",
    "# mask radius (for CGLS)\n",
    "maskRad = 1"
   ]
  },
  {
   "cell_type": "markdown",
   "metadata": {
    "slideshow": {
     "slide_type": "subslide"
    }
   },
   "source": [
    "## Setup and Run"
   ]
  },
  {
   "cell_type": "code",
   "execution_count": null,
   "metadata": {
    "slideshow": {
     "slide_type": "fragment"
    }
   },
   "outputs": [],
   "source": [
    "\n",
    "# FBD - DOES NOT WORK ON CPU FOR ANYTHING BUT PARALLEL 2D\n",
    "# fbp = FBP(None, datageom)\n",
    "# fbp.set_input(dataSlice)\n",
    "# reconObj = fbp.get_output()\n",
    "\n",
    "# ITERATIVE\n",
    "A = ProjectionOperator(imgeom, dataSlice.geometry, device='cpu')\n",
    "match iterMeth:\n",
    "    case 'CGLS':\n",
    "        cgls = CGLS(initial=imgeom.allocate(), operator=A, data=dataSlice)\n",
    "        cgls.run(numIter)\n",
    "        reconObj = cgls\n",
    "    case 'SIRT':    \n",
    "        constraint = IndicatorBox(lower=0)\n",
    "        sirt = SIRT(initial=imgeom.allocate(), operator=A, data=dataSlice, constraint=constraint)\n",
    "        sirt.run(numIter)\n",
    "        reconObj = sirt\n",
    "\n",
    "# get recon data\n",
    "recon = reconObj.solution\n",
    "recon.apply_circular_mask(radius=maskRad, in_place=True)"
   ]
  },
  {
   "cell_type": "markdown",
   "metadata": {
    "slideshow": {
     "slide_type": "subslide"
    }
   },
   "source": [
    "## Plot"
   ]
  },
  {
   "cell_type": "code",
   "execution_count": null,
   "metadata": {
    "slideshow": {
     "slide_type": "fragment"
    }
   },
   "outputs": [],
   "source": [
    "# objective function\n",
    "plt.figure(figsize=(3,3))\n",
    "plt.plot(reconObj.objective)\n",
    "plt.gca().set_yscale('log')\n",
    "plt.xlabel('Number of iterations')\n",
    "plt.ylabel('Objective value')\n",
    "plt.grid()\n",
    "\n",
    "# reconstruction\n",
    "show2D(recon, title='recon', cmap=cmapRecon, size=(5,5), origin='upper-left')"
   ]
  }
 ],
 "metadata": {
  "kernelspec": {
   "display_name": "cilCPU",
   "language": "python",
   "name": "python3"
  },
  "language_info": {
   "codemirror_mode": {
    "name": "ipython",
    "version": 3
   },
   "file_extension": ".py",
   "mimetype": "text/x-python",
   "name": "python",
   "nbconvert_exporter": "python",
   "pygments_lexer": "ipython3",
   "version": "3.12.7"
  }
 },
 "nbformat": 4,
 "nbformat_minor": 4
}
